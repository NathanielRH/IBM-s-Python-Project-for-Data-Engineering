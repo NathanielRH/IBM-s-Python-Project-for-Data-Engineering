{
 "cells": [
  {
   "cell_type": "markdown",
   "metadata": {},
   "source": [
    "<p style=\"text-align:center\">\n",
    "    <a href=\"https://skills.network/?utm_medium=Exinfluencer&utm_source=Exinfluencer&utm_content=000026UJ&utm_term=10006555&utm_id=NA-SkillsNetwork-Channel-SkillsNetworkCoursesIBMDeveloperSkillsNetworkPY0221ENSkillsNetwork23455645-2022-01-01\" target=\"_blank\">\n",
    "    <img src=\"https://cf-courses-data.s3.us.cloud-object-storage.appdomain.cloud/assets/logos/SN_web_lightmode.png\" width=\"200\" alt=\"Skills Network Logo\"  />\n",
    "    </a>\n",
    "</p>\n"
   ]
  },
  {
   "cell_type": "markdown",
   "metadata": {},
   "source": [
    "# Peer Review Assignment - Data Engineer - ETL\n"
   ]
  },
  {
   "cell_type": "markdown",
   "metadata": {},
   "source": [
    "Estimated time needed: **20** minutes\n"
   ]
  },
  {
   "cell_type": "markdown",
   "metadata": {},
   "source": [
    "## Objectives\n",
    "\n",
    "In this final part you will:\n",
    "\n",
    "*   Run the ETL process\n",
    "*   Extract bank and market cap data from the JSON file `bank_market_cap.json`\n",
    "*   Transform the market cap currency using the exchange rate data\n",
    "*   Load the transformed data into a seperate CSV\n"
   ]
  },
  {
   "cell_type": "markdown",
   "metadata": {},
   "source": [
    "For this lab, we are going to be using Python and several Python libraries. Some of these libraries might be installed in your lab environment or in SN Labs. Others may need to be installed by you. The cells below will install these libraries when executed.\n"
   ]
  },
  {
   "cell_type": "code",
   "execution_count": 3,
   "metadata": {},
   "outputs": [
    {
     "name": "stdout",
     "output_type": "stream",
     "text": [
      "\n",
      "                  __    __    __    __\n",
      "                 /  \\  /  \\  /  \\  /  \\\n",
      "                /    \\/    \\/    \\/    \\\n",
      "███████████████/  /██/  /██/  /██/  /████████████████████████\n",
      "              /  / \\   / \\   / \\   / \\  \\____\n",
      "             /  /   \\_/   \\_/   \\_/   \\    o \\__,\n",
      "            / _/                       \\_____/  `\n",
      "            |/\n",
      "        ███╗   ███╗ █████╗ ███╗   ███╗██████╗  █████╗\n",
      "        ████╗ ████║██╔══██╗████╗ ████║██╔══██╗██╔══██╗\n",
      "        ██╔████╔██║███████║██╔████╔██║██████╔╝███████║\n",
      "        ██║╚██╔╝██║██╔══██║██║╚██╔╝██║██╔══██╗██╔══██║\n",
      "        ██║ ╚═╝ ██║██║  ██║██║ ╚═╝ ██║██████╔╝██║  ██║\n",
      "        ╚═╝     ╚═╝╚═╝  ╚═╝╚═╝     ╚═╝╚═════╝ ╚═╝  ╚═╝\n",
      "\n",
      "        mamba (0.15.3) supported by @QuantStack\n",
      "\n",
      "        GitHub:  https://github.com/mamba-org/mamba\n",
      "        Twitter: https://twitter.com/QuantStack\n",
      "\n",
      "█████████████████████████████████████████████████████████████\n",
      "\n",
      "\n",
      "Looking for: ['pandas==1.3.3']\n",
      "\n",
      "pkgs/main/noarch         [<=>                 ] (00m:00s) \n",
      "pkgs/main/noarch         [=>                ] (00m:00s) 10 KB / ?? (65.48 KB/s)\n",
      "pkgs/main/noarch         [=>                ] (00m:00s) 10 KB / ?? (65.48 KB/s)\n",
      "pkgs/r/linux-64          [<=>                 ] (00m:00s) \n",
      "pkgs/main/noarch         [=>                ] (00m:00s) 10 KB / ?? (65.48 KB/s)\n",
      "pkgs/r/linux-64          [=>               ] (00m:00s) 19 KB / ?? (124.28 KB/s)\n",
      "pkgs/main/noarch         [<=>                 ] (00m:00s) Finalizing...\n",
      "pkgs/r/linux-64          [=>               ] (00m:00s) 19 KB / ?? (124.28 KB/s)\n",
      "pkgs/main/noarch         [<=>                 ] (00m:00s) Done\n",
      "pkgs/r/linux-64          [=>               ] (00m:00s) 19 KB / ?? (124.28 KB/s)\n",
      "pkgs/main/noarch         [====================] (00m:00s) Done\n",
      "pkgs/r/linux-64          [=>               ] (00m:00s) 19 KB / ?? (124.28 KB/s)\n",
      "pkgs/r/linux-64          [=>               ] (00m:00s) 19 KB / ?? (124.28 KB/s)\n",
      "pkgs/main/linux-64       [<=>                 ] (00m:00s) \n",
      "pkgs/r/linux-64          [=>               ] (00m:00s) 19 KB / ?? (124.28 KB/s)\n",
      "pkgs/main/linux-64       [=>                ] (00m:00s) 836 KB / ?? (2.61 MB/s)\n",
      "pkgs/r/linux-64          [<=>              ] (00m:00s) 19 KB / ?? (124.28 KB/s)\n",
      "pkgs/main/linux-64       [=>                ] (00m:00s) 836 KB / ?? (2.61 MB/s)\n",
      "pkgs/r/linux-64          [<=>               ] (00m:00s) 756 KB / ?? (2.36 MB/s)\n",
      "pkgs/main/linux-64       [=>                ] (00m:00s) 836 KB / ?? (2.61 MB/s)\n",
      "pkgs/r/linux-64          [<=>               ] (00m:00s) 756 KB / ?? (2.36 MB/s)\n",
      "pkgs/main/linux-64       [=>                ] (00m:00s) 836 KB / ?? (2.61 MB/s)\n",
      "pkgs/r/noarch            [<=>                 ] (00m:00s) \n",
      "pkgs/r/linux-64          [<=>               ] (00m:00s) 756 KB / ?? (2.36 MB/s)\n",
      "pkgs/main/linux-64       [=>                ] (00m:00s) 836 KB / ?? (2.61 MB/s)\n",
      "pkgs/r/noarch            [=>                ] (00m:00s) 784 KB / ?? (2.44 MB/s)\n",
      "pkgs/r/linux-64          [<=>               ] (00m:00s) 756 KB / ?? (2.36 MB/s)\n",
      "pkgs/main/linux-64       [=>                ] (00m:00s) 836 KB / ?? (2.61 MB/s)\n",
      "pkgs/r/noarch            [<=>                 ] (00m:00s) Finalizing...\n",
      "pkgs/r/linux-64          [<=>               ] (00m:00s) 756 KB / ?? (2.36 MB/s)\n",
      "pkgs/main/linux-64       [=>                ] (00m:00s) 836 KB / ?? (2.61 MB/s)\n",
      "pkgs/r/noarch            [<=>                 ] (00m:00s) Done\n",
      "pkgs/r/noarch            [====================] (00m:00s) Done\n",
      "pkgs/r/linux-64          [<=>               ] (00m:00s) 756 KB / ?? (2.36 MB/s)\n",
      "pkgs/main/linux-64       [=>                ] (00m:00s) 836 KB / ?? (2.61 MB/s)\n",
      "pkgs/r/linux-64          [ <=>                ] (00m:00s) Finalizing...\n",
      "pkgs/main/linux-64       [=>                ] (00m:00s) 836 KB / ?? (2.61 MB/s)\n",
      "pkgs/r/linux-64          [ <=>                ] (00m:00s) Done\n",
      "pkgs/main/linux-64       [=>                ] (00m:00s) 836 KB / ?? (2.61 MB/s)\n",
      "pkgs/r/linux-64          [====================] (00m:00s) Done\n",
      "pkgs/main/linux-64       [=>                ] (00m:00s) 836 KB / ?? (2.61 MB/s)\n",
      "pkgs/main/linux-64       [<=>               ] (00m:00s) 836 KB / ?? (2.61 MB/s)\n",
      "pkgs/main/linux-64       [ <=>                ] (00m:00s) 2 MB / ?? (3.48 MB/s)\n",
      "pkgs/main/linux-64       [  <=>               ] (00m:00s) 2 MB / ?? (3.48 MB/s)\n",
      "pkgs/main/linux-64       [  <=>               ] (00m:00s) 3 MB / ?? (4.19 MB/s)\n",
      "pkgs/main/linux-64       [   <=>              ] (00m:00s) 3 MB / ?? (4.19 MB/s)\n",
      "pkgs/main/linux-64       [   <=>              ] (00m:00s) 3 MB / ?? (4.39 MB/s)\n",
      "pkgs/main/linux-64       [    <=>             ] (00m:00s) 3 MB / ?? (4.39 MB/s)\n",
      "pkgs/main/linux-64       [    <=>             ] (00m:00s) 4 MB / ?? (4.60 MB/s)\n",
      "pkgs/main/linux-64       [     <=>            ] (00m:00s) 4 MB / ?? (4.60 MB/s)\n",
      "pkgs/main/linux-64       [     <=>            ] (00m:00s) 5 MB / ?? (4.76 MB/s)\n",
      "pkgs/main/linux-64       [     <=>            ] (00m:00s) Finalizing...\n",
      "pkgs/main/linux-64       [     <=>            ] (00m:00s) Done\n",
      "pkgs/main/linux-64       [====================] (00m:00s) Done\n",
      "\n",
      "Pinned packages:\n",
      "  - python 3.7.*\n",
      "\n",
      "\n",
      "Transaction\n",
      "\n",
      "  Prefix: /home/jupyterlab/conda/envs/python\n",
      "\n",
      "  Updating specs:\n",
      "\n",
      "   - pandas==1.3.3\n",
      "   - ca-certificates\n",
      "   - certifi\n",
      "   - openssl\n",
      "\n",
      "\n",
      "  Package               Version  Build           Channel                  Size\n",
      "────────────────────────────────────────────────────────────────────────────────\n",
      "  Upgrade:\n",
      "────────────────────────────────────────────────────────────────────────────────\n",
      "\n",
      "\u001b[31m  - ca-certificates\u001b[00m   2022.9.24  ha878542_0      installed                    \n",
      "\u001b[32m  + ca-certificates\u001b[00m  2023.01.10  h06a4308_0      pkgs/main/linux-64     120 KB\n",
      "\u001b[31m  - certifi        \u001b[00m   2022.9.24  pyhd8ed1ab_0    installed                    \n",
      "\u001b[32m  + certifi        \u001b[00m   2022.12.7  py37h06a4308_0  pkgs/main/linux-64     150 KB\n",
      "\u001b[31m  - openssl        \u001b[00m      1.1.1s  h0b41bf4_1      installed                    \n",
      "\u001b[32m  + openssl        \u001b[00m      1.1.1t  h7f8727e_0      pkgs/main/linux-64       4 MB\n",
      "\n",
      "  Downgrade:\n",
      "────────────────────────────────────────────────────────────────────────────────\n",
      "\n",
      "\u001b[31m  - pandas         \u001b[00m       1.3.5  py37h8c16a72_0  installed                    \n",
      "\u001b[32m  + pandas         \u001b[00m       1.3.3  py37h8c16a72_0  pkgs/main/linux-64       9 MB\n",
      "\n",
      "  Summary:\n",
      "\n",
      "  Upgrade: 3 packages\n",
      "  Downgrade: 1 packages\n",
      "\n",
      "  Total download: 13 MB\n",
      "\n",
      "────────────────────────────────────────────────────────────────────────────────\n",
      "\n",
      "Downloading  [>                                        ] (00m:00s)  420.76 KB/s\n",
      "Extracting   [>                                                      ] (--:--) \n",
      "Downloading  [>                                        ] (00m:00s)  420.76 KB/s\n",
      "Extracting   [>                                                      ] (--:--) \n",
      "Downloading  [==>                                      ] (00m:00s)    5.61 MB/s\n",
      "Extracting   [>                                                      ] (--:--) \n",
      "Downloading  [==>                                      ] (00m:00s)    5.61 MB/s\n",
      "Extracting   [>                                                      ] (--:--) \n",
      "Downloading  [==>                                      ] (00m:00s)    6.05 MB/s\n",
      "Extracting   [>                                                      ] (--:--) \n",
      "\u001b[2A\u001b[0KFinished certifi                              (00m:00s)             150 KB    979 KB/s\n",
      "Downloading  [==>                                      ] (00m:00s)    6.05 MB/s\n",
      "Extracting   [>                                                      ] (--:--) \n",
      "Downloading  [==>                                      ] (00m:00s)    6.05 MB/s\n",
      "Extracting   [>                                                      ] (--:--) \n",
      "Downloading  [==>                                      ] (00m:00s)    6.05 MB/s\n",
      "Extracting   [>                                                      ] (--:--) \n",
      "Downloading  [==>                                      ] (00m:00s)    6.05 MB/s\n",
      "Extracting   [==========>                              ] (00m:00s)        1 / 4\n",
      "Downloading  [==>                                      ] (00m:00s)    6.21 MB/s\n",
      "Extracting   [==========>                              ] (00m:00s)        1 / 4\n",
      "\u001b[2A\u001b[0KFinished ca-certificates                      (00m:00s)             120 KB    714 KB/s\n",
      "Downloading  [==>                                      ] (00m:00s)    6.21 MB/s\n",
      "Extracting   [==========>                              ] (00m:00s)        1 / 4\n",
      "Downloading  [==>                                      ] (00m:00s)    6.21 MB/s\n",
      "Extracting   [==========>                              ] (00m:00s)        1 / 4\n",
      "Downloading  [==>                                      ] (00m:00s)    6.21 MB/s\n",
      "Extracting   [==========>                              ] (00m:00s)        1 / 4\n",
      "Downloading  [============>                            ] (00m:00s)   23.68 MB/s\n",
      "Extracting   [==========>                              ] (00m:00s)        1 / 4\n",
      "Downloading  [============>                            ] (00m:00s)   23.68 MB/s\n",
      "Extracting   [====================>                    ] (00m:00s)        2 / 4\n",
      "\u001b[2A\u001b[0KFinished openssl                              (00m:00s)               4 MB     22 MB/s\n",
      "Downloading  [============>                            ] (00m:00s)   23.68 MB/s\n",
      "Extracting   [====================>                    ] (00m:00s)        2 / 4\n",
      "Downloading  [============>                            ] (00m:00s)   23.68 MB/s\n",
      "Extracting   [====================>                    ] (00m:00s)        2 / 4\n",
      "Downloading  [============>                            ] (00m:00s)   23.68 MB/s\n",
      "Extracting   [====================>                    ] (00m:00s)        2 / 4\n",
      "Downloading  [=========================================] (00m:00s)   57.26 MB/s\n",
      "Extracting   [====================>                    ] (00m:00s)        2 / 4\n",
      "\u001b[2A\u001b[0KFinished pandas                               (00m:00s)               9 MB     40 MB/s\n",
      "Downloading  [=========================================] (00m:00s)   57.26 MB/s\n",
      "Extracting   [====================>                    ] (00m:00s)        2 / 4\n",
      "Downloading  [=========================================] (00m:00s)   57.26 MB/s\n",
      "Extracting   [====================>                    ] (00m:00s)        2 / 4\n",
      "Downloading  [=========================================] (00m:00s)   57.26 MB/s\n",
      "Extracting   [==============================>          ] (00m:00s)        3 / 4\n",
      "Downloading  [=========================================] (00m:00s)   57.26 MB/s\n",
      "Extracting   [==============================>          ] (00m:00s)        3 / 4\n",
      "Downloading  [=========================================] (00m:00s)   57.26 MB/s\n",
      "Extracting   [=========================================] (00m:00s)        4 / 4\n",
      "Preparing transaction: done\n",
      "Verifying transaction: done\n",
      "Executing transaction: done\n",
      "\n",
      "                  __    __    __    __\n",
      "                 /  \\  /  \\  /  \\  /  \\\n",
      "                /    \\/    \\/    \\/    \\\n",
      "███████████████/  /██/  /██/  /██/  /████████████████████████\n",
      "              /  / \\   / \\   / \\   / \\  \\____\n",
      "             /  /   \\_/   \\_/   \\_/   \\    o \\__,\n",
      "            / _/                       \\_____/  `\n",
      "            |/\n",
      "        ███╗   ███╗ █████╗ ███╗   ███╗██████╗  █████╗\n",
      "        ████╗ ████║██╔══██╗████╗ ████║██╔══██╗██╔══██╗\n",
      "        ██╔████╔██║███████║██╔████╔██║██████╔╝███████║\n",
      "        ██║╚██╔╝██║██╔══██║██║╚██╔╝██║██╔══██╗██╔══██║\n",
      "        ██║ ╚═╝ ██║██║  ██║██║ ╚═╝ ██║██████╔╝██║  ██║\n",
      "        ╚═╝     ╚═╝╚═╝  ╚═╝╚═╝     ╚═╝╚═════╝ ╚═╝  ╚═╝\n",
      "\n",
      "        mamba (0.15.3) supported by @QuantStack\n",
      "\n",
      "        GitHub:  https://github.com/mamba-org/mamba\n",
      "        Twitter: https://twitter.com/QuantStack\n",
      "\n",
      "█████████████████████████████████████████████████████████████\n",
      "\n",
      "\n",
      "Looking for: ['requests==2.26.0']\n",
      "\n",
      "pkgs/main/linux-64       Using cache\n",
      "pkgs/main/noarch         Using cache\n",
      "pkgs/r/linux-64          Using cache\n",
      "pkgs/r/noarch            Using cache\n",
      "\n",
      "Pinned packages:\n",
      "  - python 3.7.*\n",
      "\n",
      "\n",
      "Transaction\n",
      "\n",
      "  Prefix: /home/jupyterlab/conda/envs/python\n",
      "\n",
      "  Updating specs:\n",
      "\n",
      "   - requests==2.26.0\n",
      "   - ca-certificates\n",
      "   - certifi\n",
      "   - openssl\n",
      "\n",
      "\n",
      "  Package               Version  Build         Channel               Size\n",
      "───────────────────────────────────────────────────────────────────────────\n",
      "  Downgrade:\n",
      "───────────────────────────────────────────────────────────────────────────\n",
      "\n",
      "\u001b[31m  - charset-normalizer\u001b[00m    2.1.1  pyhd8ed1ab_0  installed                 \n",
      "\u001b[32m  + charset-normalizer\u001b[00m    2.0.4  pyhd3eb1b0_0  pkgs/main/noarch     35 KB\n",
      "\u001b[31m  - requests          \u001b[00m   2.28.1  pyhd8ed1ab_1  installed                 \n",
      "\u001b[32m  + requests          \u001b[00m   2.26.0  pyhd3eb1b0_0  pkgs/main/noarch     59 KB\n",
      "\n",
      "  Summary:\n",
      "\n",
      "  Downgrade: 2 packages\n",
      "\n",
      "  Total download: 94 KB\n",
      "\n",
      "───────────────────────────────────────────────────────────────────────────\n",
      "\n",
      "Downloading  [==============>                          ] (00m:00s)  248.51 KB/s\n",
      "Extracting   [>                                                      ] (--:--) \n",
      "\u001b[2A\u001b[0KFinished charset-normalizer                   (00m:00s)              35 KB    248 KB/s\n",
      "Downloading  [==============>                          ] (00m:00s)  248.51 KB/s\n",
      "Extracting   [>                                                      ] (--:--) \n",
      "Downloading  [==============>                          ] (00m:00s)  248.51 KB/s\n",
      "Extracting   [>                                                      ] (--:--) \n",
      "Downloading  [==============>                          ] (00m:00s)  248.51 KB/s\n",
      "Extracting   [>                                                      ] (--:--) \n",
      "Downloading  [=========================================] (00m:00s)  674.83 KB/s\n",
      "Extracting   [>                                                      ] (--:--) \n",
      "\u001b[2A\u001b[0KFinished requests                             (00m:00s)              59 KB    424 KB/s\n",
      "Downloading  [=========================================] (00m:00s)  674.83 KB/s\n",
      "Extracting   [>                                                      ] (--:--) \n",
      "Downloading  [=========================================] (00m:00s)  674.83 KB/s\n",
      "Extracting   [>                                                      ] (--:--) \n",
      "Downloading  [=========================================] (00m:00s)  674.83 KB/s\n",
      "Extracting   [====================>                    ] (00m:00s)        1 / 2\n",
      "Downloading  [=========================================] (00m:00s)  674.83 KB/s\n",
      "Extracting   [====================>                    ] (00m:00s)        1 / 2\n",
      "Downloading  [=========================================] (00m:00s)  674.83 KB/s\n",
      "Extracting   [=========================================] (00m:00s)        2 / 2\n",
      "Preparing transaction: done\n",
      "Verifying transaction: done\n",
      "Executing transaction: done\n"
     ]
    }
   ],
   "source": [
    "!mamba install pandas==1.3.3 -y\n",
    "!mamba install requests==2.26.0 -y"
   ]
  },
  {
   "cell_type": "markdown",
   "metadata": {},
   "source": [
    "## Imports\n",
    "\n",
    "Import any additional libraries you may need here.\n"
   ]
  },
  {
   "cell_type": "code",
   "execution_count": 4,
   "metadata": {},
   "outputs": [],
   "source": [
    "import glob\n",
    "import pandas as pd\n",
    "from datetime import datetime"
   ]
  },
  {
   "cell_type": "markdown",
   "metadata": {},
   "source": [
    "As the exchange rate fluctuates, we will download the same dataset to make marking simpler. This will be in the same format as the dataset you used in the last section\n"
   ]
  },
  {
   "cell_type": "code",
   "execution_count": 5,
   "metadata": {},
   "outputs": [
    {
     "name": "stdout",
     "output_type": "stream",
     "text": [
      "--2023-04-04 23:21:21--  https://cf-courses-data.s3.us.cloud-object-storage.appdomain.cloud/IBMDeveloperSkillsNetwork-PY0221EN-SkillsNetwork/labs/module%206/Lab%20-%20Extract%20Transform%20Load/data/bank_market_cap_1.json\n",
      "Resolving cf-courses-data.s3.us.cloud-object-storage.appdomain.cloud (cf-courses-data.s3.us.cloud-object-storage.appdomain.cloud)... 169.63.118.104\n",
      "Connecting to cf-courses-data.s3.us.cloud-object-storage.appdomain.cloud (cf-courses-data.s3.us.cloud-object-storage.appdomain.cloud)|169.63.118.104|:443... connected.\n",
      "HTTP request sent, awaiting response... 200 OK\n",
      "Length: 2815 (2.7K) [application/json]\n",
      "Saving to: ‘bank_market_cap_1.json’\n",
      "\n",
      "bank_market_cap_1.j 100%[===================>]   2.75K  --.-KB/s    in 0s      \n",
      "\n",
      "2023-04-04 23:21:21 (19.1 MB/s) - ‘bank_market_cap_1.json’ saved [2815/2815]\n",
      "\n",
      "--2023-04-04 23:21:23--  https://cf-courses-data.s3.us.cloud-object-storage.appdomain.cloud/IBMDeveloperSkillsNetwork-PY0221EN-SkillsNetwork/labs/module%206/Lab%20-%20Extract%20Transform%20Load/data/bank_market_cap_2.json\n",
      "Resolving cf-courses-data.s3.us.cloud-object-storage.appdomain.cloud (cf-courses-data.s3.us.cloud-object-storage.appdomain.cloud)... 169.63.118.104\n",
      "Connecting to cf-courses-data.s3.us.cloud-object-storage.appdomain.cloud (cf-courses-data.s3.us.cloud-object-storage.appdomain.cloud)|169.63.118.104|:443... connected.\n",
      "HTTP request sent, awaiting response... 200 OK\n",
      "Length: 1429 (1.4K) [application/json]\n",
      "Saving to: ‘bank_market_cap_2.json’\n",
      "\n",
      "bank_market_cap_2.j 100%[===================>]   1.40K  --.-KB/s    in 0s      \n",
      "\n",
      "2023-04-04 23:21:23 (10.7 MB/s) - ‘bank_market_cap_2.json’ saved [1429/1429]\n",
      "\n",
      "--2023-04-04 23:21:24--  https://cf-courses-data.s3.us.cloud-object-storage.appdomain.cloud/IBMDeveloperSkillsNetwork-PY0221EN-SkillsNetwork/labs/module%206/Final%20Assignment/exchange_rates.csv\n",
      "Resolving cf-courses-data.s3.us.cloud-object-storage.appdomain.cloud (cf-courses-data.s3.us.cloud-object-storage.appdomain.cloud)... 169.63.118.104\n",
      "Connecting to cf-courses-data.s3.us.cloud-object-storage.appdomain.cloud (cf-courses-data.s3.us.cloud-object-storage.appdomain.cloud)|169.63.118.104|:443... connected.\n",
      "HTTP request sent, awaiting response... 200 OK\n",
      "Length: 590 [text/csv]\n",
      "Saving to: ‘exchange_rates.csv’\n",
      "\n",
      "exchange_rates.csv  100%[===================>]     590  --.-KB/s    in 0s      \n",
      "\n",
      "2023-04-04 23:21:24 (4.72 MB/s) - ‘exchange_rates.csv’ saved [590/590]\n",
      "\n"
     ]
    }
   ],
   "source": [
    "!wget https://cf-courses-data.s3.us.cloud-object-storage.appdomain.cloud/IBMDeveloperSkillsNetwork-PY0221EN-SkillsNetwork/labs/module%206/Lab%20-%20Extract%20Transform%20Load/data/bank_market_cap_1.json\n",
    "!wget https://cf-courses-data.s3.us.cloud-object-storage.appdomain.cloud/IBMDeveloperSkillsNetwork-PY0221EN-SkillsNetwork/labs/module%206/Lab%20-%20Extract%20Transform%20Load/data/bank_market_cap_2.json\n",
    "!wget https://cf-courses-data.s3.us.cloud-object-storage.appdomain.cloud/IBMDeveloperSkillsNetwork-PY0221EN-SkillsNetwork/labs/module%206/Final%20Assignment/exchange_rates.csv"
   ]
  },
  {
   "cell_type": "markdown",
   "metadata": {},
   "source": [
    "## Extract\n"
   ]
  },
  {
   "cell_type": "markdown",
   "metadata": {},
   "source": [
    "### JSON Extract Function\n",
    "\n",
    "This function will extract JSON files.\n"
   ]
  },
  {
   "cell_type": "code",
   "execution_count": 6,
   "metadata": {},
   "outputs": [],
   "source": [
    "def extract_from_json(file_to_process):\n",
    "    dataframe = pd.read_json(file_to_process)\n",
    "    return dataframe"
   ]
  },
  {
   "cell_type": "markdown",
   "metadata": {},
   "source": [
    "## Extract Function\n",
    "\n",
    "Define the extract function that finds JSON file `bank_market_cap_1.json` and calls the function created above to extract data from them. Store the data in a `pandas` dataframe. Use the following list for the columns.\n"
   ]
  },
  {
   "cell_type": "code",
   "execution_count": 7,
   "metadata": {},
   "outputs": [],
   "source": [
    "columns=['Name','Market Cap (US$ Billion)']"
   ]
  },
  {
   "cell_type": "code",
   "execution_count": 9,
   "metadata": {},
   "outputs": [],
   "source": [
    "def extract():\n",
    "    # Find the JSON file\n",
    "    files = glob.glob('bank_market_cap_1.json')\n",
    "    if len(files) == 0:\n",
    "        raise ValueError('No JSON files found')\n",
    "\n",
    "    # Load the JSON data and extract the relevant fields\n",
    "    data = []\n",
    "    with open(files[0]) as f:\n",
    "        json_data = json.load(f)\n",
    "        for item in json_data['data']:\n",
    "            name = item['name']\n",
    "            market_cap = item['market_cap']\n",
    "            data.append([name, market_cap])\n",
    "\n",
    "    # Create a pandas DataFrame and return it\n",
    "    df = pd.DataFrame(data, columns=columns)\n",
    "    return df"
   ]
  },
  {
   "cell_type": "markdown",
   "metadata": {},
   "source": [
    "<b>Question 1</b> Load the file <code>exchange_rates.csv</code> as a dataframe and find the exchange rate for British pounds with the symbol <code>GBP</code>, store it in the variable  <code>exchange_rate</code>, you will be asked for the number. Hint: set the parameter  <code>index_col</code> to 0.\n"
   ]
  },
  {
   "cell_type": "code",
   "execution_count": 29,
   "metadata": {},
   "outputs": [
    {
     "name": "stdout",
     "output_type": "stream",
     "text": [
      "0.7323984208000001\n"
     ]
    }
   ],
   "source": [
    "# Load\n",
    "df = pd.read_csv('exchange_rates.csv', index_col=0)\n",
    "\n",
    "# Find\n",
    "exchange_rate = df.loc['GBP', 'Rates']\n",
    "\n",
    "print(exchange_rate) # Show me"
   ]
  },
  {
   "cell_type": "markdown",
   "metadata": {
    "tags": []
   },
   "source": [
    "## Transform\n",
    "\n",
    "Using <code>exchange_rate</code> and the `exchange_rates.csv` file find the exchange rate of USD to GBP. Write a transform function that\n",
    "\n",
    "1.  Changes the `Market Cap (US$ Billion)` column from USD to GBP\n",
    "2.  Rounds the Market Cap (US$ Billion)\\` column to 3 decimal places\n",
    "3.  Rename `Market Cap (US$ Billion)` to `Market Cap (GBP$ Billion)`\n"
   ]
  },
  {
   "cell_type": "code",
   "execution_count": 38,
   "metadata": {},
   "outputs": [
    {
     "name": "stdout",
     "output_type": "stream",
     "text": [
      "            Rates\n",
      "AUD      1.297088\n",
      "BGN      1.608653\n",
      "BRL      5.409196\n",
      "CAD      1.271426\n",
      "CHF      0.886083\n",
      "CNY      6.483139\n",
      "CZK     21.510117\n",
      "DKK      6.119757\n",
      "EUR      0.822504\n",
      "GBP      0.732398\n",
      "HKD      7.752509\n",
      "HRK      6.222652\n",
      "HUF    294.135549\n",
      "IDR  14097.902616\n",
      "ILS      3.281132\n",
      "INR     73.011186\n",
      "ISK    129.133081\n",
      "JPY    103.791742\n",
      "KRW   1105.839776\n",
      "MXN     19.932966\n",
      "MYR      4.043017\n",
      "NOK      8.497121\n",
      "NZD      1.393733\n",
      "PHP     48.070406\n",
      "PLN      3.732933\n",
      "RON      4.008883\n",
      "RUB     74.930827\n",
      "SEK      8.292071\n",
      "SGD      1.328261\n",
      "THB     30.009870\n",
      "TRY      7.418572\n",
      "USD      1.000000\n",
      "ZAR     15.118441\n"
     ]
    }
   ],
   "source": [
    "def transform(df, exchange_rate):\n",
    "    try:\n",
    "        # Convert\n",
    "        df['Market Cap (US$ Billion)'] = df['Market Cap (US$ Billion)'] * exchange_rate\n",
    "\n",
    "        # Round\n",
    "        df['Market Cap (US$ Billion)'] = df['Market Cap (US$ Billion)'].round(3)\n",
    "\n",
    "        # Rename\n",
    "        df.rename(columns={'Market Cap (US$ Billion)': 'Market Cap (GBP$ Billion)'}, inplace=True)\n",
    "\n",
    "    except KeyError as e: # Error Check\n",
    "        print(\"KeyError:\", e)\n",
    "        print(\"DataFrame columns:\", df.columns)\n",
    "\n",
    "    return df\n",
    "\n",
    "print(df) # Show me"
   ]
  },
  {
   "cell_type": "markdown",
   "metadata": {},
   "source": [
    "## Load\n",
    "\n",
    "Create a function that takes a dataframe and load it to a csv named `bank_market_cap_gbp.csv`. Make sure to set `index` to `False`.\n"
   ]
  },
  {
   "cell_type": "code",
   "execution_count": 39,
   "metadata": {},
   "outputs": [
    {
     "name": "stdout",
     "output_type": "stream",
     "text": [
      "DataFrame saved to: bank_market_cap_gbp.csv\n"
     ]
    }
   ],
   "source": [
    "def load(df, filename='bank_market_cap_gbp.csv'):\n",
    "    try: \n",
    "        df.to_csv(filename, index=False)\n",
    "        print(\"DataFrame saved to:\", filename)\n",
    "    except Exception as e: #Error Check\n",
    "        print(\"Error saving DataFrame:\", e)\n",
    "\n",
    "# Test\n",
    "load(df)\n"
   ]
  },
  {
   "cell_type": "markdown",
   "metadata": {},
   "source": [
    "## Logging Function\n"
   ]
  },
  {
   "cell_type": "markdown",
   "metadata": {},
   "source": [
    "Write the logging function <code>log</code> to log your data:\n"
   ]
  },
  {
   "cell_type": "code",
   "execution_count": 53,
   "metadata": {},
   "outputs": [
    {
     "name": "stdout",
     "output_type": "stream",
     "text": [
      "2023-04-05 00:04:06 - Sample log message\n",
      "\n"
     ]
    }
   ],
   "source": [
    "import datetime\n",
    "\n",
    "def log(message, logfile=\"log.txt\"):\n",
    "    # Time?\n",
    "    current_time = datetime.datetime.now().strftime(\"%Y-%m-%d %H:%M:%S\")\n",
    "    \n",
    "    # Log\n",
    "    log_entry = f\"{current_time} - {message}\\n\"\n",
    "    \n",
    "    # Append New to Log\n",
    "    with open(logfile, \"a\") as file:\n",
    "        file.write(log_entry)\n",
    "\n",
    "# Perform\n",
    "log(\"Sample log message\")\n",
    "\n",
    "# show Me\n",
    "def print_log(logfile=\"log.txt\"):\n",
    "    with open(logfile, \"r\") as file:\n",
    "        content = file.read()\n",
    "        print(content)\n",
    "\n",
    "# Call\n",
    "print_log()"
   ]
  },
  {
   "cell_type": "markdown",
   "metadata": {},
   "source": [
    "## Running the ETL Process\n"
   ]
  },
  {
   "cell_type": "markdown",
   "metadata": {},
   "source": [
    "Log the process accordingly using the following <code>\"ETL Job Started\"</code> and <code>\"Extract phase Started\"</code>\n"
   ]
  },
  {
   "cell_type": "code",
   "execution_count": 54,
   "metadata": {},
   "outputs": [
    {
     "name": "stdout",
     "output_type": "stream",
     "text": [
      "KeyError: 'Market Cap (US$ Billion)'\n",
      "DataFrame columns: Index(['Rates'], dtype='object')\n",
      "DataFrame saved to: bank_market_cap_gbp.csv\n",
      "2023-04-05 00:04:06 - Sample log message\n",
      "2023-04-05 00:04:09 - ETL Job Started\n",
      "2023-04-05 00:04:09 - Extract phase Started\n",
      "2023-04-05 00:04:09 - Extracted exchange_rate: 0.7323984208000001\n",
      "2023-04-05 00:04:09 - Transform phase Started\n",
      "2023-04-05 00:04:09 - Transform phase Completed\n",
      "2023-04-05 00:04:09 - Load phase Started\n",
      "2023-04-05 00:04:09 - Load phase Completed\n",
      "2023-04-05 00:04:09 - ETL Job Completed\n",
      "\n"
     ]
    }
   ],
   "source": [
    "# ETL Job\n",
    "log(\"ETL Job Started\")\n",
    "\n",
    "# Extract \n",
    "log(\"Extract phase Started\")\n",
    "df = pd.read_csv('exchange_rates.csv', index_col=0)\n",
    "exchange_rate = df.loc['GBP', 'Rates']\n",
    "log(f\"Extracted exchange_rate: {exchange_rate}\")\n",
    "\n",
    "# Transform \n",
    "log(\"Transform phase Started\")\n",
    "transformed_df = transform(df, exchange_rate)\n",
    "log(\"Transform phase Completed\")\n",
    "\n",
    "# Load \n",
    "log(\"Load phase Started\")\n",
    "load(transformed_df)\n",
    "log(\"Load phase Completed\")\n",
    "\n",
    "# Complete Notify\n",
    "log(\"ETL Job Completed\")\n",
    "\n",
    "# Call\n",
    "print_log()\n"
   ]
  },
  {
   "cell_type": "markdown",
   "metadata": {},
   "source": [
    "### Extract\n"
   ]
  },
  {
   "cell_type": "markdown",
   "metadata": {},
   "source": [
    "<code>Question 2</code> Use the function <code>extract</code>, and print the first 5 rows, take a screen shot:\n"
   ]
  },
  {
   "cell_type": "code",
   "execution_count": 55,
   "metadata": {},
   "outputs": [
    {
     "name": "stdout",
     "output_type": "stream",
     "text": [
      "        Rates\n",
      "AUD  1.297088\n",
      "BGN  1.608653\n",
      "BRL  5.409196\n",
      "CAD  1.271426\n",
      "CHF  0.886083\n"
     ]
    }
   ],
   "source": [
    "def extract(file_path):\n",
    "    df = pd.read_csv(file_path, index_col=0)\n",
    "    return df\n",
    "\n",
    "file_path = 'exchange_rates.csv'\n",
    "df = extract(file_path)\n",
    "\n",
    "print(df.head(5))\n"
   ]
  },
  {
   "cell_type": "markdown",
   "metadata": {},
   "source": [
    "Log the data as <code>\"Extract phase Ended\"</code>\n"
   ]
  },
  {
   "cell_type": "code",
   "execution_count": 56,
   "metadata": {},
   "outputs": [
    {
     "name": "stdout",
     "output_type": "stream",
     "text": [
      "2023-04-05 00:04:06 - Sample log message\n",
      "2023-04-05 00:04:09 - ETL Job Started\n",
      "2023-04-05 00:04:09 - Extract phase Started\n",
      "2023-04-05 00:04:09 - Extracted exchange_rate: 0.7323984208000001\n",
      "2023-04-05 00:04:09 - Transform phase Started\n",
      "2023-04-05 00:04:09 - Transform phase Completed\n",
      "2023-04-05 00:04:09 - Load phase Started\n",
      "2023-04-05 00:04:09 - Load phase Completed\n",
      "2023-04-05 00:04:09 - ETL Job Completed\n",
      "2023-04-05 00:04:14 - Extract phase Ended\n",
      "\n"
     ]
    }
   ],
   "source": [
    "log(\"Extract phase Ended\")\n",
    "print_log()"
   ]
  },
  {
   "cell_type": "markdown",
   "metadata": {},
   "source": [
    "### Transform\n"
   ]
  },
  {
   "cell_type": "markdown",
   "metadata": {},
   "source": [
    "Log the following  <code>\"Transform phase Started\"</code>\n"
   ]
  },
  {
   "cell_type": "code",
   "execution_count": 57,
   "metadata": {},
   "outputs": [
    {
     "name": "stdout",
     "output_type": "stream",
     "text": [
      "2023-04-05 00:04:06 - Sample log message\n",
      "2023-04-05 00:04:09 - ETL Job Started\n",
      "2023-04-05 00:04:09 - Extract phase Started\n",
      "2023-04-05 00:04:09 - Extracted exchange_rate: 0.7323984208000001\n",
      "2023-04-05 00:04:09 - Transform phase Started\n",
      "2023-04-05 00:04:09 - Transform phase Completed\n",
      "2023-04-05 00:04:09 - Load phase Started\n",
      "2023-04-05 00:04:09 - Load phase Completed\n",
      "2023-04-05 00:04:09 - ETL Job Completed\n",
      "2023-04-05 00:04:14 - Extract phase Ended\n",
      "2023-04-05 00:04:21 - Transform phase Started\n",
      "\n"
     ]
    }
   ],
   "source": [
    "log(\"Transform phase Started\")\n",
    "print_log()"
   ]
  },
  {
   "cell_type": "markdown",
   "metadata": {},
   "source": [
    "<code>Question 3</code> Use the function <code>transform</code> and print the first 5 rows of the output, take a screen shot:\n"
   ]
  },
  {
   "cell_type": "code",
   "execution_count": 58,
   "metadata": {},
   "outputs": [
    {
     "name": "stdout",
     "output_type": "stream",
     "text": [
      "KeyError: 'Market Cap (US$ Billion)'\n",
      "DataFrame columns: Index(['Rates'], dtype='object')\n",
      "        Rates\n",
      "AUD  1.297088\n",
      "BGN  1.608653\n",
      "BRL  5.409196\n",
      "CAD  1.271426\n",
      "CHF  0.886083\n"
     ]
    }
   ],
   "source": [
    "transformed_df = transform(df, exchange_rate)\n",
    "print(transformed_df.head(5))\n"
   ]
  },
  {
   "cell_type": "markdown",
   "metadata": {},
   "source": [
    "Log your data <code>\"Transform phase Ended\"</code>\n"
   ]
  },
  {
   "cell_type": "code",
   "execution_count": 59,
   "metadata": {},
   "outputs": [
    {
     "name": "stdout",
     "output_type": "stream",
     "text": [
      "2023-04-05 00:04:06 - Sample log message\n",
      "2023-04-05 00:04:09 - ETL Job Started\n",
      "2023-04-05 00:04:09 - Extract phase Started\n",
      "2023-04-05 00:04:09 - Extracted exchange_rate: 0.7323984208000001\n",
      "2023-04-05 00:04:09 - Transform phase Started\n",
      "2023-04-05 00:04:09 - Transform phase Completed\n",
      "2023-04-05 00:04:09 - Load phase Started\n",
      "2023-04-05 00:04:09 - Load phase Completed\n",
      "2023-04-05 00:04:09 - ETL Job Completed\n",
      "2023-04-05 00:04:14 - Extract phase Ended\n",
      "2023-04-05 00:04:21 - Transform phase Started\n",
      "2023-04-05 00:04:26 - Transform phase Ended\n",
      "\n"
     ]
    }
   ],
   "source": [
    "log(\"Transform phase Ended\")\n",
    "print_log()"
   ]
  },
  {
   "cell_type": "markdown",
   "metadata": {},
   "source": [
    "### Load\n"
   ]
  },
  {
   "cell_type": "markdown",
   "metadata": {},
   "source": [
    "Log the following `\"Load phase Started\"`.\n"
   ]
  },
  {
   "cell_type": "code",
   "execution_count": 60,
   "metadata": {},
   "outputs": [
    {
     "name": "stdout",
     "output_type": "stream",
     "text": [
      "2023-04-05 00:04:06 - Sample log message\n",
      "2023-04-05 00:04:09 - ETL Job Started\n",
      "2023-04-05 00:04:09 - Extract phase Started\n",
      "2023-04-05 00:04:09 - Extracted exchange_rate: 0.7323984208000001\n",
      "2023-04-05 00:04:09 - Transform phase Started\n",
      "2023-04-05 00:04:09 - Transform phase Completed\n",
      "2023-04-05 00:04:09 - Load phase Started\n",
      "2023-04-05 00:04:09 - Load phase Completed\n",
      "2023-04-05 00:04:09 - ETL Job Completed\n",
      "2023-04-05 00:04:14 - Extract phase Ended\n",
      "2023-04-05 00:04:21 - Transform phase Started\n",
      "2023-04-05 00:04:26 - Transform phase Ended\n",
      "2023-04-05 00:04:36 - Load phase Started\n",
      "\n"
     ]
    }
   ],
   "source": [
    "log(\"Load phase Started\")\n",
    "print_log()"
   ]
  },
  {
   "cell_type": "markdown",
   "metadata": {},
   "source": [
    "Call the load function\n"
   ]
  },
  {
   "cell_type": "code",
   "execution_count": 61,
   "metadata": {},
   "outputs": [
    {
     "name": "stdout",
     "output_type": "stream",
     "text": [
      "DataFrame saved to: bank_market_cap_gbp.csv\n"
     ]
    }
   ],
   "source": [
    "load(transformed_df)\n"
   ]
  },
  {
   "cell_type": "markdown",
   "metadata": {},
   "source": [
    "Log the following `\"Load phase Ended\"`.\n"
   ]
  },
  {
   "cell_type": "code",
   "execution_count": 62,
   "metadata": {},
   "outputs": [
    {
     "name": "stdout",
     "output_type": "stream",
     "text": [
      "2023-04-05 00:04:06 - Sample log message\n",
      "2023-04-05 00:04:09 - ETL Job Started\n",
      "2023-04-05 00:04:09 - Extract phase Started\n",
      "2023-04-05 00:04:09 - Extracted exchange_rate: 0.7323984208000001\n",
      "2023-04-05 00:04:09 - Transform phase Started\n",
      "2023-04-05 00:04:09 - Transform phase Completed\n",
      "2023-04-05 00:04:09 - Load phase Started\n",
      "2023-04-05 00:04:09 - Load phase Completed\n",
      "2023-04-05 00:04:09 - ETL Job Completed\n",
      "2023-04-05 00:04:14 - Extract phase Ended\n",
      "2023-04-05 00:04:21 - Transform phase Started\n",
      "2023-04-05 00:04:26 - Transform phase Ended\n",
      "2023-04-05 00:04:36 - Load phase Started\n",
      "2023-04-05 00:04:42 - Load phase Ended\n",
      "\n"
     ]
    }
   ],
   "source": [
    "log(\"Load phase Ended\")\n",
    "print_log()"
   ]
  },
  {
   "cell_type": "markdown",
   "metadata": {},
   "source": [
    "## Authors\n"
   ]
  },
  {
   "cell_type": "markdown",
   "metadata": {},
   "source": [
    "Ramesh Sannareddy, Joseph Santrcangelo and Azim Hirjani\n"
   ]
  },
  {
   "cell_type": "markdown",
   "metadata": {},
   "source": [
    "### Other Contributors\n"
   ]
  },
  {
   "cell_type": "markdown",
   "metadata": {},
   "source": [
    "Rav Ahuja\n"
   ]
  },
  {
   "cell_type": "markdown",
   "metadata": {},
   "source": [
    "## Change Log\n"
   ]
  },
  {
   "cell_type": "markdown",
   "metadata": {},
   "source": [
    "| Date (YYYY-MM-DD) | Version | Changed By        | Change Description                 |\n",
    "| ----------------- | ------- | ----------------- | ---------------------------------- |\n",
    "| 2020-11-25        | 0.1     | Ramesh Sannareddy | Created initial version of the lab |\n"
   ]
  },
  {
   "cell_type": "markdown",
   "metadata": {},
   "source": [
    "Copyright © 2020 IBM Corporation. This notebook and its source code are released under the terms of the [MIT License](https://cognitiveclass.ai/mit-license?utm_medium=Exinfluencer&utm_source=Exinfluencer&utm_content=000026UJ&utm_term=10006555&utm_id=NA-SkillsNetwork-Channel-SkillsNetworkCoursesIBMDeveloperSkillsNetworkPY0221ENSkillsNetwork23455645-2022-01-01&cm_mmc=Email_Newsletter-\\_-Developer_Ed%2BTech-\\_-WW_WW-\\_-SkillsNetwork-Courses-IBM-DA0321EN-SkillsNetwork-21426264&cm_mmca1=000026UJ&cm_mmca2=10006555&cm_mmca3=M12345678&cvosrc=email.Newsletter.M12345678&cvo_campaign=000026UJ).\n"
   ]
  }
 ],
 "metadata": {
  "kernelspec": {
   "display_name": "Python",
   "language": "python",
   "name": "conda-env-python-py"
  },
  "language_info": {
   "codemirror_mode": {
    "name": "ipython",
    "version": 3
   },
   "file_extension": ".py",
   "mimetype": "text/x-python",
   "name": "python",
   "nbconvert_exporter": "python",
   "pygments_lexer": "ipython3",
   "version": "3.7.12"
  }
 },
 "nbformat": 4,
 "nbformat_minor": 4
}
