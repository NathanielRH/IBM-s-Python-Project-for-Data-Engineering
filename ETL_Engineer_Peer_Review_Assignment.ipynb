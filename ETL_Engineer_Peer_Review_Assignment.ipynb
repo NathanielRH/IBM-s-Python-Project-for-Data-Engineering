{
 "cells": [
  {
   "cell_type": "markdown",
   "metadata": {},
   "source": [
    "<p style=\"text-align:center\">\n",
    "    <a href=\"https://skills.network/?utm_medium=Exinfluencer&utm_source=Exinfluencer&utm_content=000026UJ&utm_term=10006555&utm_id=NA-SkillsNetwork-Channel-SkillsNetworkCoursesIBMDeveloperSkillsNetworkPY0221ENSkillsNetwork23455645-2022-01-01\" target=\"_blank\">\n",
    "    <img src=\"https://cf-courses-data.s3.us.cloud-object-storage.appdomain.cloud/assets/logos/SN_web_lightmode.png\" width=\"200\" alt=\"Skills Network Logo\"  />\n",
    "    </a>\n",
    "</p>\n"
   ]
  },
  {
   "cell_type": "markdown",
   "metadata": {},
   "source": [
    "# Peer Review Assignment - Data Engineer - ETL\n"
   ]
  },
  {
   "cell_type": "markdown",
   "metadata": {},
   "source": [
    "Estimated time needed: **20** minutes\n"
   ]
  },
  {
   "cell_type": "markdown",
   "metadata": {},
   "source": [
    "## Objectives\n",
    "\n",
    "In this final part you will:\n",
    "\n",
    "*   Run the ETL process\n",
    "*   Extract bank and market cap data from the JSON file `bank_market_cap.json`\n",
    "*   Transform the market cap currency using the exchange rate data\n",
    "*   Load the transformed data into a seperate CSV\n"
   ]
  },
  {
   "cell_type": "markdown",
   "metadata": {},
   "source": [
    "For this lab, we are going to be using Python and several Python libraries. Some of these libraries might be installed in your lab environment or in SN Labs. Others may need to be installed by you. The cells below will install these libraries when executed.\n"
   ]
  },
  {
   "cell_type": "code",
   "execution_count": 1,
   "metadata": {},
   "outputs": [
    {
     "name": "stdout",
     "output_type": "stream",
     "text": [
      "\n",
      "                  __    __    __    __\n",
      "                 /  \\  /  \\  /  \\  /  \\\n",
      "                /    \\/    \\/    \\/    \\\n",
      "███████████████/  /██/  /██/  /██/  /████████████████████████\n",
      "              /  / \\   / \\   / \\   / \\  \\____\n",
      "             /  /   \\_/   \\_/   \\_/   \\    o \\__,\n",
      "            / _/                       \\_____/  `\n",
      "            |/\n",
      "        ███╗   ███╗ █████╗ ███╗   ███╗██████╗  █████╗\n",
      "        ████╗ ████║██╔══██╗████╗ ████║██╔══██╗██╔══██╗\n",
      "        ██╔████╔██║███████║██╔████╔██║██████╔╝███████║\n",
      "        ██║╚██╔╝██║██╔══██║██║╚██╔╝██║██╔══██╗██╔══██║\n",
      "        ██║ ╚═╝ ██║██║  ██║██║ ╚═╝ ██║██████╔╝██║  ██║\n",
      "        ╚═╝     ╚═╝╚═╝  ╚═╝╚═╝     ╚═╝╚═════╝ ╚═╝  ╚═╝\n",
      "\n",
      "        mamba (0.15.3) supported by @QuantStack\n",
      "\n",
      "        GitHub:  https://github.com/mamba-org/mamba\n",
      "        Twitter: https://twitter.com/QuantStack\n",
      "\n",
      "█████████████████████████████████████████████████████████████\n",
      "\n",
      "\n",
      "Looking for: ['pandas==1.3.3']\n",
      "\n",
      "pkgs/r/linux-64          [>                   ] (--:--) No change\n",
      "pkgs/r/linux-64          [====================] (00m:00s) No change\n",
      "pkgs/main/noarch         [>                   ] (--:--) No change\n",
      "pkgs/main/noarch         [====================] (00m:00s) No change\n",
      "pkgs/main/linux-64       [>                   ] (--:--) No change\n",
      "pkgs/main/linux-64       [====================] (00m:00s) No change\n",
      "pkgs/r/noarch            [>                   ] (--:--) No change\n",
      "pkgs/r/noarch            [====================] (00m:00s) No change\n",
      "\n",
      "Pinned packages:\n",
      "  - python 3.7.*\n",
      "\n",
      "\n",
      "Transaction\n",
      "\n",
      "  Prefix: /home/jupyterlab/conda/envs/python\n",
      "\n",
      "  All requested packages already installed\n",
      "\n",
      "\n",
      "                  __    __    __    __\n",
      "                 /  \\  /  \\  /  \\  /  \\\n",
      "                /    \\/    \\/    \\/    \\\n",
      "███████████████/  /██/  /██/  /██/  /████████████████████████\n",
      "              /  / \\   / \\   / \\   / \\  \\____\n",
      "             /  /   \\_/   \\_/   \\_/   \\    o \\__,\n",
      "            / _/                       \\_____/  `\n",
      "            |/\n",
      "        ███╗   ███╗ █████╗ ███╗   ███╗██████╗  █████╗\n",
      "        ████╗ ████║██╔══██╗████╗ ████║██╔══██╗██╔══██╗\n",
      "        ██╔████╔██║███████║██╔████╔██║██████╔╝███████║\n",
      "        ██║╚██╔╝██║██╔══██║██║╚██╔╝██║██╔══██╗██╔══██║\n",
      "        ██║ ╚═╝ ██║██║  ██║██║ ╚═╝ ██║██████╔╝██║  ██║\n",
      "        ╚═╝     ╚═╝╚═╝  ╚═╝╚═╝     ╚═╝╚═════╝ ╚═╝  ╚═╝\n",
      "\n",
      "        mamba (0.15.3) supported by @QuantStack\n",
      "\n",
      "        GitHub:  https://github.com/mamba-org/mamba\n",
      "        Twitter: https://twitter.com/QuantStack\n",
      "\n",
      "█████████████████████████████████████████████████████████████\n",
      "\n",
      "\n",
      "Looking for: ['requests==2.26.0']\n",
      "\n",
      "pkgs/main/linux-64       Using cache\n",
      "pkgs/main/noarch         Using cache\n",
      "pkgs/r/linux-64          Using cache\n",
      "pkgs/r/noarch            Using cache\n",
      "\n",
      "Pinned packages:\n",
      "  - python 3.7.*\n",
      "\n",
      "\n",
      "Transaction\n",
      "\n",
      "  Prefix: /home/jupyterlab/conda/envs/python\n",
      "\n",
      "  All requested packages already installed\n",
      "\n"
     ]
    }
   ],
   "source": [
    "!mamba install pandas==1.3.3 -y\n",
    "!mamba install requests==2.26.0 -y"
   ]
  },
  {
   "cell_type": "markdown",
   "metadata": {},
   "source": [
    "## Imports\n",
    "\n",
    "Import any additional libraries you may need here.\n"
   ]
  },
  {
   "cell_type": "code",
   "execution_count": 2,
   "metadata": {},
   "outputs": [],
   "source": [
    "import glob\n",
    "import pandas as pd\n",
    "from datetime import datetime"
   ]
  },
  {
   "cell_type": "markdown",
   "metadata": {},
   "source": [
    "As the exchange rate fluctuates, we will download the same dataset to make marking simpler. This will be in the same format as the dataset you used in the last section\n"
   ]
  },
  {
   "cell_type": "code",
   "execution_count": 3,
   "metadata": {},
   "outputs": [
    {
     "name": "stdout",
     "output_type": "stream",
     "text": [
      "--2023-04-05 02:37:24--  https://cf-courses-data.s3.us.cloud-object-storage.appdomain.cloud/IBMDeveloperSkillsNetwork-PY0221EN-SkillsNetwork/labs/module%206/Lab%20-%20Extract%20Transform%20Load/data/bank_market_cap_1.json\n",
      "Resolving cf-courses-data.s3.us.cloud-object-storage.appdomain.cloud (cf-courses-data.s3.us.cloud-object-storage.appdomain.cloud)... 169.63.118.104\n",
      "Connecting to cf-courses-data.s3.us.cloud-object-storage.appdomain.cloud (cf-courses-data.s3.us.cloud-object-storage.appdomain.cloud)|169.63.118.104|:443... connected.\n",
      "HTTP request sent, awaiting response... 200 OK\n",
      "Length: 2815 (2.7K) [application/json]\n",
      "Saving to: ‘bank_market_cap_1.json’\n",
      "\n",
      "bank_market_cap_1.j 100%[===================>]   2.75K  --.-KB/s    in 0s      \n",
      "\n",
      "2023-04-05 02:37:24 (19.5 MB/s) - ‘bank_market_cap_1.json’ saved [2815/2815]\n",
      "\n",
      "--2023-04-05 02:37:25--  https://cf-courses-data.s3.us.cloud-object-storage.appdomain.cloud/IBMDeveloperSkillsNetwork-PY0221EN-SkillsNetwork/labs/module%206/Lab%20-%20Extract%20Transform%20Load/data/bank_market_cap_2.json\n",
      "Resolving cf-courses-data.s3.us.cloud-object-storage.appdomain.cloud (cf-courses-data.s3.us.cloud-object-storage.appdomain.cloud)... 169.63.118.104\n",
      "Connecting to cf-courses-data.s3.us.cloud-object-storage.appdomain.cloud (cf-courses-data.s3.us.cloud-object-storage.appdomain.cloud)|169.63.118.104|:443... connected.\n",
      "HTTP request sent, awaiting response... 200 OK\n",
      "Length: 1429 (1.4K) [application/json]\n",
      "Saving to: ‘bank_market_cap_2.json’\n",
      "\n",
      "bank_market_cap_2.j 100%[===================>]   1.40K  --.-KB/s    in 0s      \n",
      "\n",
      "2023-04-05 02:37:25 (10.9 MB/s) - ‘bank_market_cap_2.json’ saved [1429/1429]\n",
      "\n",
      "--2023-04-05 02:37:27--  https://cf-courses-data.s3.us.cloud-object-storage.appdomain.cloud/IBMDeveloperSkillsNetwork-PY0221EN-SkillsNetwork/labs/module%206/Final%20Assignment/exchange_rates.csv\n",
      "Resolving cf-courses-data.s3.us.cloud-object-storage.appdomain.cloud (cf-courses-data.s3.us.cloud-object-storage.appdomain.cloud)... 169.63.118.104\n",
      "Connecting to cf-courses-data.s3.us.cloud-object-storage.appdomain.cloud (cf-courses-data.s3.us.cloud-object-storage.appdomain.cloud)|169.63.118.104|:443... connected.\n",
      "HTTP request sent, awaiting response... 200 OK\n",
      "Length: 590 [text/csv]\n",
      "Saving to: ‘exchange_rates.csv’\n",
      "\n",
      "exchange_rates.csv  100%[===================>]     590  --.-KB/s    in 0s      \n",
      "\n",
      "2023-04-05 02:37:27 (3.56 MB/s) - ‘exchange_rates.csv’ saved [590/590]\n",
      "\n"
     ]
    }
   ],
   "source": [
    "!wget https://cf-courses-data.s3.us.cloud-object-storage.appdomain.cloud/IBMDeveloperSkillsNetwork-PY0221EN-SkillsNetwork/labs/module%206/Lab%20-%20Extract%20Transform%20Load/data/bank_market_cap_1.json\n",
    "!wget https://cf-courses-data.s3.us.cloud-object-storage.appdomain.cloud/IBMDeveloperSkillsNetwork-PY0221EN-SkillsNetwork/labs/module%206/Lab%20-%20Extract%20Transform%20Load/data/bank_market_cap_2.json\n",
    "!wget https://cf-courses-data.s3.us.cloud-object-storage.appdomain.cloud/IBMDeveloperSkillsNetwork-PY0221EN-SkillsNetwork/labs/module%206/Final%20Assignment/exchange_rates.csv"
   ]
  },
  {
   "cell_type": "markdown",
   "metadata": {},
   "source": [
    "## Extract\n"
   ]
  },
  {
   "cell_type": "markdown",
   "metadata": {},
   "source": [
    "### JSON Extract Function\n",
    "\n",
    "This function will extract JSON files.\n"
   ]
  },
  {
   "cell_type": "code",
   "execution_count": 4,
   "metadata": {},
   "outputs": [],
   "source": [
    "def extract_from_json(file_to_process):\n",
    "    dataframe = pd.read_json(file_to_process)\n",
    "    return dataframe"
   ]
  },
  {
   "cell_type": "markdown",
   "metadata": {},
   "source": [
    "## Extract Function\n",
    "\n",
    "Define the extract function that finds JSON file `bank_market_cap_1.json` and calls the function created above to extract data from them. Store the data in a `pandas` dataframe. Use the following list for the columns.\n"
   ]
  },
  {
   "cell_type": "code",
   "execution_count": 5,
   "metadata": {},
   "outputs": [],
   "source": [
    "columns=['Name','Market Cap (US$ Billion)']"
   ]
  },
  {
   "cell_type": "code",
   "execution_count": 6,
   "metadata": {},
   "outputs": [],
   "source": [
    "def extract():\n",
    "    # Find the JSON file\n",
    "    files = glob.glob('bank_market_cap_1.json')\n",
    "    if len(files) == 0:\n",
    "        raise ValueError('No JSON files found')\n",
    "\n",
    "    # Load the JSON data and extract the relevant fields\n",
    "    data = []\n",
    "    with open(files[0]) as f:\n",
    "        json_data = json.load(f)\n",
    "        for item in json_data['data']:\n",
    "            name = item['name']\n",
    "            market_cap = item['market_cap']\n",
    "            data.append([name, market_cap])\n",
    "\n",
    "    # Create a pandas DataFrame and return it\n",
    "    df = pd.DataFrame(data, columns=columns)\n",
    "    return df"
   ]
  },
  {
   "cell_type": "markdown",
   "metadata": {},
   "source": [
    "<b>Question 1</b> Load the file <code>exchange_rates.csv</code> as a dataframe and find the exchange rate for British pounds with the symbol <code>GBP</code>, store it in the variable  <code>exchange_rate</code>, you will be asked for the number. Hint: set the parameter  <code>index_col</code> to 0.\n"
   ]
  },
  {
   "cell_type": "code",
   "execution_count": 7,
   "metadata": {},
   "outputs": [
    {
     "name": "stdout",
     "output_type": "stream",
     "text": [
      "0.7323984208000001\n"
     ]
    }
   ],
   "source": [
    "# Load\n",
    "df = pd.read_csv('exchange_rates.csv', index_col=0)\n",
    "\n",
    "# Find\n",
    "exchange_rate = df.loc['GBP', 'Rates']\n",
    "\n",
    "print(exchange_rate) # Show me"
   ]
  },
  {
   "cell_type": "markdown",
   "metadata": {},
   "source": [
    "## Transform\n",
    "\n",
    "Using <code>exchange_rate</code> and the `exchange_rates.csv` file find the exchange rate of USD to GBP. Write a transform function that\n",
    "\n",
    "1.  Changes the `Market Cap (US$ Billion)` column from USD to GBP\n",
    "2.  Rounds the Market Cap (US$ Billion)\\` column to 3 decimal places\n",
    "3.  Rename `Market Cap (US$ Billion)` to `Market Cap (GBP$ Billion)`\n"
   ]
  },
  {
   "cell_type": "code",
   "execution_count": 10,
   "metadata": {},
   "outputs": [
    {
     "name": "stdout",
     "output_type": "stream",
     "text": [
      "                                      Name  Market Cap (GBP$ Billion)\n",
      "0                           JPMorgan Chase                    286.319\n",
      "1  Industrial and Commercial Bank of China                    252.834\n",
      "2                          Bank of America                    238.272\n",
      "3                              Wells Fargo                    225.588\n",
      "4                  China Construction Bank                    188.519\n"
     ]
    }
   ],
   "source": [
    "# extract {f}\n",
    "def extract():\n",
    "    # Load\n",
    "    data = pd.read_json('bank_market_cap_1.json')\n",
    "\n",
    "    # Rename\n",
    "    data.rename(columns={'Market Cap (US$ Billion)': 'Market Cap (GBP$ Billion)'}, inplace=True)\n",
    "\n",
    "    return data\n",
    "\n",
    "# Define\n",
    "def transform(data, exchange_rate):\n",
    "    # Change USD to GBP\n",
    "    data['Market Cap (GBP$ Billion)'] = data['Market Cap (GBP$ Billion)'] * exchange_rate\n",
    "\n",
    "    # Round to 3 decimal places\n",
    "    data['Market Cap (GBP$ Billion)'] = data['Market Cap (GBP$ Billion)'].round(3)\n",
    "\n",
    "    # Rename to Market Cap (GBP$ Billion)\n",
    "    data.rename(columns={'Market Cap (GBP$ Billion)': 'Market Cap (GBP$ Billion)'}, inplace=True)\n",
    "\n",
    "    return data\n",
    "\n",
    "# Load\n",
    "df_rates = pd.read_csv('exchange_rates.csv', index_col=0)\n",
    "\n",
    "# Get exchange rate\n",
    "exchange_rate = df_rates.loc['GBP', 'Rates']\n",
    "\n",
    "# Extract\n",
    "bank_market_data = extract()\n",
    "\n",
    "# Transform\n",
    "transformed_data = transform(bank_market_data, exchange_rate)\n",
    "\n",
    "# Print 5\n",
    "print(bank_market_data.head())"
   ]
  },
  {
   "cell_type": "markdown",
   "metadata": {},
   "source": [
    "## Load\n",
    "\n",
    "Create a function that takes a dataframe and load it to a csv named `bank_market_cap_gbp.csv`. Make sure to set `index` to `False`.\n"
   ]
  },
  {
   "cell_type": "code",
   "execution_count": 11,
   "metadata": {},
   "outputs": [
    {
     "name": "stdout",
     "output_type": "stream",
     "text": [
      "DataFrame saved to: bank_market_cap_gbp.csv\n"
     ]
    }
   ],
   "source": [
    "def load(data, filename='bank_market_cap_gbp.csv'):\n",
    "    try: \n",
    "        data.to_csv(filename, index=False)\n",
    "        print(\"DataFrame saved to:\", filename)\n",
    "    except Exception as e: #Error Check\n",
    "        print(\"Error saving DataFrame:\", e)\n",
    "\n",
    "# Test\n",
    "load(transformed_data)"
   ]
  },
  {
   "cell_type": "markdown",
   "metadata": {},
   "source": [
    "## Logging Function\n"
   ]
  },
  {
   "cell_type": "markdown",
   "metadata": {},
   "source": [
    "Write the logging function <code>log</code> to log your data:\n"
   ]
  },
  {
   "cell_type": "code",
   "execution_count": 13,
   "metadata": {},
   "outputs": [
    {
     "name": "stdout",
     "output_type": "stream",
     "text": [
      "2023-04-05 02:40:24 - Sample log message\n",
      "\n"
     ]
    }
   ],
   "source": [
    "import datetime\n",
    "\n",
    "def log(message, logfile=\"log.txt\"):\n",
    "    # Time?\n",
    "    current_time = datetime.datetime.now().strftime(\"%Y-%m-%d %H:%M:%S\")\n",
    "    \n",
    "    # Log\n",
    "    log_entry = f\"{current_time} - {message}\\n\"\n",
    "    \n",
    "    # Append New to Log\n",
    "    with open(logfile, \"a\") as file:\n",
    "        file.write(log_entry)\n",
    "\n",
    "# Perform\n",
    "log(\"Sample log message\")\n",
    "\n",
    "# show Me\n",
    "def print_log(logfile=\"log.txt\"):\n",
    "    with open(logfile, \"r\") as file:\n",
    "        content = file.read()\n",
    "        print(content)\n",
    "\n",
    "# Call\n",
    "print_log()"
   ]
  },
  {
   "cell_type": "markdown",
   "metadata": {},
   "source": [
    "## Running the ETL Process\n"
   ]
  },
  {
   "cell_type": "markdown",
   "metadata": {},
   "source": [
    "Log the process accordingly using the following <code>\"ETL Job Started\"</code> and <code>\"Extract phase Started\"</code>\n"
   ]
  },
  {
   "cell_type": "code",
   "execution_count": 16,
   "metadata": {},
   "outputs": [
    {
     "name": "stdout",
     "output_type": "stream",
     "text": [
      "DataFrame saved to: bank_market_cap_gbp.csv\n",
      "2023-04-05 02:40:24 - Sample log message\n",
      "2023-04-05 02:44:53 - ETL Job Started\n",
      "2023-04-05 02:44:53 - Extract phase Started\n",
      "2023-04-05 02:44:53 - Extracted exchange_rate: 0.7323984208000001\n",
      "2023-04-05 02:44:53 - Extract phase Completed\n",
      "2023-04-05 02:44:53 - Transform phase Started\n",
      "2023-04-05 02:44:53 - Transform phase Completed\n",
      "2023-04-05 02:44:53 - Load phase Started\n",
      "2023-04-05 02:44:54 - Load phase Completed\n",
      "2023-04-05 02:44:54 - ETL Job Completed\n",
      "\n"
     ]
    }
   ],
   "source": [
    "# ETL Job\n",
    "log(\"ETL Job Started\")\n",
    "\n",
    "# Extract \n",
    "log(\"Extract phase Started\")\n",
    "data = extract()\n",
    "df = pd.read_csv('exchange_rates.csv', index_col=0)\n",
    "exchange_rate = df.loc['GBP', 'Rates']\n",
    "log(f\"Extracted exchange_rate: {exchange_rate}\")\n",
    "log(\"Extract phase Completed\")\n",
    "\n",
    "# Transform\n",
    "log(\"Transform phase Started\")\n",
    "# transformed_data = transform(data, exchange_rate) # This was already completed; running it again would transform the data further.\n",
    "log(\"Transform phase Completed\")\n",
    "\n",
    "# Load\n",
    "log(\"Load phase Started\")\n",
    "load(transformed_data)\n",
    "log(\"Load phase Completed\")\n",
    "\n",
    "# Complete\n",
    "log(\"ETL Job Completed\")\n",
    "\n",
    "# Call\n",
    "print_log()"
   ]
  },
  {
   "cell_type": "markdown",
   "metadata": {},
   "source": [
    "### Extract\n"
   ]
  },
  {
   "cell_type": "markdown",
   "metadata": {},
   "source": [
    "<code>Question 2</code> Use the function <code>extract</code>, and print the first 5 rows, take a screen shot:\n"
   ]
  },
  {
   "cell_type": "code",
   "execution_count": 14,
   "metadata": {},
   "outputs": [
    {
     "name": "stdout",
     "output_type": "stream",
     "text": [
      "                                      Name  Market Cap (GBP$ Billion)\n",
      "0                           JPMorgan Chase                    390.934\n",
      "1  Industrial and Commercial Bank of China                    345.214\n",
      "2                          Bank of America                    325.331\n",
      "3                              Wells Fargo                    308.013\n",
      "4                  China Construction Bank                    257.399\n"
     ]
    }
   ],
   "source": [
    "# extract {f}\n",
    "def extract():\n",
    "    # Load\n",
    "    data = pd.read_json('bank_market_cap_1.json')\n",
    "\n",
    "    # Rename\n",
    "    data.rename(columns={'Market Cap (US$ Billion)': 'Market Cap (GBP$ Billion)'}, inplace=True)\n",
    "\n",
    "    return data\n",
    "\n",
    "# Extract \n",
    "bank_market_data = extract()\n",
    "\n",
    "# Print 5\n",
    "print(bank_market_data.head())"
   ]
  },
  {
   "cell_type": "markdown",
   "metadata": {},
   "source": [
    "Log the data as <code>\"Extract phase Ended\"</code>\n"
   ]
  },
  {
   "cell_type": "code",
   "execution_count": 17,
   "metadata": {},
   "outputs": [
    {
     "name": "stdout",
     "output_type": "stream",
     "text": [
      "2023-04-05 02:40:24 - Sample log message\n",
      "2023-04-05 02:44:53 - ETL Job Started\n",
      "2023-04-05 02:44:53 - Extract phase Started\n",
      "2023-04-05 02:44:53 - Extracted exchange_rate: 0.7323984208000001\n",
      "2023-04-05 02:44:53 - Extract phase Completed\n",
      "2023-04-05 02:44:53 - Transform phase Started\n",
      "2023-04-05 02:44:53 - Transform phase Completed\n",
      "2023-04-05 02:44:53 - Load phase Started\n",
      "2023-04-05 02:44:54 - Load phase Completed\n",
      "2023-04-05 02:44:54 - ETL Job Completed\n",
      "2023-04-05 02:45:18 - Extract phase Ended\n",
      "\n"
     ]
    }
   ],
   "source": [
    "log(\"Extract phase Ended\")\n",
    "print_log()"
   ]
  },
  {
   "cell_type": "markdown",
   "metadata": {},
   "source": [
    "### Transform\n"
   ]
  },
  {
   "cell_type": "markdown",
   "metadata": {},
   "source": [
    "Log the following  <code>\"Transform phase Started\"</code>\n"
   ]
  },
  {
   "cell_type": "code",
   "execution_count": 18,
   "metadata": {},
   "outputs": [
    {
     "name": "stdout",
     "output_type": "stream",
     "text": [
      "2023-04-05 02:40:24 - Sample log message\n",
      "2023-04-05 02:44:53 - ETL Job Started\n",
      "2023-04-05 02:44:53 - Extract phase Started\n",
      "2023-04-05 02:44:53 - Extracted exchange_rate: 0.7323984208000001\n",
      "2023-04-05 02:44:53 - Extract phase Completed\n",
      "2023-04-05 02:44:53 - Transform phase Started\n",
      "2023-04-05 02:44:53 - Transform phase Completed\n",
      "2023-04-05 02:44:53 - Load phase Started\n",
      "2023-04-05 02:44:54 - Load phase Completed\n",
      "2023-04-05 02:44:54 - ETL Job Completed\n",
      "2023-04-05 02:45:18 - Extract phase Ended\n",
      "2023-04-05 02:45:38 - Transform phase Started\n",
      "\n"
     ]
    }
   ],
   "source": [
    "log(\"Transform phase Started\")\n",
    "print_log()"
   ]
  },
  {
   "cell_type": "markdown",
   "metadata": {},
   "source": [
    "<code>Question 3</code> Use the function <code>transform</code> and print the first 5 rows of the output, take a screen shot:\n"
   ]
  },
  {
   "cell_type": "code",
   "execution_count": 15,
   "metadata": {},
   "outputs": [
    {
     "name": "stdout",
     "output_type": "stream",
     "text": [
      "                                      Name  Market Cap (GBP$ Billion)\n",
      "0                           JPMorgan Chase                    286.319\n",
      "1  Industrial and Commercial Bank of China                    252.834\n",
      "2                          Bank of America                    238.272\n",
      "3                              Wells Fargo                    225.588\n",
      "4                  China Construction Bank                    188.519\n"
     ]
    }
   ],
   "source": [
    "# This function was already called; running it again would transform the data further and overwrite the file.\n",
    "\n",
    "print(transformed_data.head(5))"
   ]
  },
  {
   "cell_type": "markdown",
   "metadata": {},
   "source": [
    "Log your data <code>\"Transform phase Ended\"</code>\n"
   ]
  },
  {
   "cell_type": "code",
   "execution_count": 19,
   "metadata": {},
   "outputs": [
    {
     "name": "stdout",
     "output_type": "stream",
     "text": [
      "2023-04-05 02:40:24 - Sample log message\n",
      "2023-04-05 02:44:53 - ETL Job Started\n",
      "2023-04-05 02:44:53 - Extract phase Started\n",
      "2023-04-05 02:44:53 - Extracted exchange_rate: 0.7323984208000001\n",
      "2023-04-05 02:44:53 - Extract phase Completed\n",
      "2023-04-05 02:44:53 - Transform phase Started\n",
      "2023-04-05 02:44:53 - Transform phase Completed\n",
      "2023-04-05 02:44:53 - Load phase Started\n",
      "2023-04-05 02:44:54 - Load phase Completed\n",
      "2023-04-05 02:44:54 - ETL Job Completed\n",
      "2023-04-05 02:45:18 - Extract phase Ended\n",
      "2023-04-05 02:45:38 - Transform phase Started\n",
      "2023-04-05 02:45:44 - Transform phase Ended\n",
      "\n"
     ]
    }
   ],
   "source": [
    "log(\"Transform phase Ended\")\n",
    "print_log()"
   ]
  },
  {
   "cell_type": "markdown",
   "metadata": {},
   "source": [
    "### Load\n"
   ]
  },
  {
   "cell_type": "markdown",
   "metadata": {},
   "source": [
    "Log the following `\"Load phase Started\"`.\n"
   ]
  },
  {
   "cell_type": "code",
   "execution_count": 20,
   "metadata": {},
   "outputs": [
    {
     "name": "stdout",
     "output_type": "stream",
     "text": [
      "2023-04-05 02:40:24 - Sample log message\n",
      "2023-04-05 02:44:53 - ETL Job Started\n",
      "2023-04-05 02:44:53 - Extract phase Started\n",
      "2023-04-05 02:44:53 - Extracted exchange_rate: 0.7323984208000001\n",
      "2023-04-05 02:44:53 - Extract phase Completed\n",
      "2023-04-05 02:44:53 - Transform phase Started\n",
      "2023-04-05 02:44:53 - Transform phase Completed\n",
      "2023-04-05 02:44:53 - Load phase Started\n",
      "2023-04-05 02:44:54 - Load phase Completed\n",
      "2023-04-05 02:44:54 - ETL Job Completed\n",
      "2023-04-05 02:45:18 - Extract phase Ended\n",
      "2023-04-05 02:45:38 - Transform phase Started\n",
      "2023-04-05 02:45:44 - Transform phase Ended\n",
      "2023-04-05 02:45:46 - Load phase Started\n",
      "\n"
     ]
    }
   ],
   "source": [
    "log(\"Load phase Started\")\n",
    "print_log()"
   ]
  },
  {
   "cell_type": "markdown",
   "metadata": {},
   "source": [
    "Call the load function\n"
   ]
  },
  {
   "cell_type": "code",
   "execution_count": 21,
   "metadata": {},
   "outputs": [
    {
     "name": "stdout",
     "output_type": "stream",
     "text": [
      "DataFrame saved to: bank_market_cap_gbp.csv\n"
     ]
    }
   ],
   "source": [
    "load(transformed_data)"
   ]
  },
  {
   "cell_type": "markdown",
   "metadata": {},
   "source": [
    "Log the following `\"Load phase Ended\"`.\n"
   ]
  },
  {
   "cell_type": "code",
   "execution_count": 22,
   "metadata": {},
   "outputs": [
    {
     "name": "stdout",
     "output_type": "stream",
     "text": [
      "2023-04-05 02:40:24 - Sample log message\n",
      "2023-04-05 02:44:53 - ETL Job Started\n",
      "2023-04-05 02:44:53 - Extract phase Started\n",
      "2023-04-05 02:44:53 - Extracted exchange_rate: 0.7323984208000001\n",
      "2023-04-05 02:44:53 - Extract phase Completed\n",
      "2023-04-05 02:44:53 - Transform phase Started\n",
      "2023-04-05 02:44:53 - Transform phase Completed\n",
      "2023-04-05 02:44:53 - Load phase Started\n",
      "2023-04-05 02:44:54 - Load phase Completed\n",
      "2023-04-05 02:44:54 - ETL Job Completed\n",
      "2023-04-05 02:45:18 - Extract phase Ended\n",
      "2023-04-05 02:45:38 - Transform phase Started\n",
      "2023-04-05 02:45:44 - Transform phase Ended\n",
      "2023-04-05 02:45:46 - Load phase Started\n",
      "2023-04-05 02:46:08 - Load phase Ended\n",
      "\n"
     ]
    }
   ],
   "source": [
    "log(\"Load phase Ended\")\n",
    "print_log()"
   ]
  },
  {
   "cell_type": "markdown",
   "metadata": {},
   "source": [
    "## Authors\n"
   ]
  },
  {
   "cell_type": "markdown",
   "metadata": {},
   "source": [
    "Ramesh Sannareddy, Joseph Santrcangelo and Azim Hirjani\n"
   ]
  },
  {
   "cell_type": "markdown",
   "metadata": {},
   "source": [
    "### Other Contributors\n"
   ]
  },
  {
   "cell_type": "markdown",
   "metadata": {},
   "source": [
    "Rav Ahuja\n"
   ]
  },
  {
   "cell_type": "markdown",
   "metadata": {},
   "source": [
    "## Change Log\n"
   ]
  },
  {
   "cell_type": "markdown",
   "metadata": {},
   "source": [
    "| Date (YYYY-MM-DD) | Version | Changed By        | Change Description                 |\n",
    "| ----------------- | ------- | ----------------- | ---------------------------------- |\n",
    "| 2020-11-25        | 0.1     | Ramesh Sannareddy | Created initial version of the lab |\n"
   ]
  },
  {
   "cell_type": "markdown",
   "metadata": {},
   "source": [
    "Copyright © 2020 IBM Corporation. This notebook and its source code are released under the terms of the [MIT License](https://cognitiveclass.ai/mit-license?utm_medium=Exinfluencer&utm_source=Exinfluencer&utm_content=000026UJ&utm_term=10006555&utm_id=NA-SkillsNetwork-Channel-SkillsNetworkCoursesIBMDeveloperSkillsNetworkPY0221ENSkillsNetwork23455645-2022-01-01&cm_mmc=Email_Newsletter-\\_-Developer_Ed%2BTech-\\_-WW_WW-\\_-SkillsNetwork-Courses-IBM-DA0321EN-SkillsNetwork-21426264&cm_mmca1=000026UJ&cm_mmca2=10006555&cm_mmca3=M12345678&cvosrc=email.Newsletter.M12345678&cvo_campaign=000026UJ).\n"
   ]
  }
 ],
 "metadata": {
  "kernelspec": {
   "display_name": "Python",
   "language": "python",
   "name": "conda-env-python-py"
  },
  "language_info": {
   "codemirror_mode": {
    "name": "ipython",
    "version": 3
   },
   "file_extension": ".py",
   "mimetype": "text/x-python",
   "name": "python",
   "nbconvert_exporter": "python",
   "pygments_lexer": "ipython3",
   "version": "3.7.12"
  }
 },
 "nbformat": 4,
 "nbformat_minor": 4
}
